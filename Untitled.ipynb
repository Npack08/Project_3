{
 "cells": [
  {
   "cell_type": "code",
   "execution_count": 1,
   "id": "93bc3d0d",
   "metadata": {},
   "outputs": [],
   "source": [
    "import pandas as pd\n",
    "import numpy as np\n",
    "import sqlite3"
   ]
  },
  {
   "cell_type": "code",
   "execution_count": 2,
   "id": "2aeb01b2",
   "metadata": {},
   "outputs": [],
   "source": [
    "conn = sqlite3.connect('resources/heart_db.db')\n",
    "heart_data = pd.read_sql_query(\"SELECT * FROM heart_data\", conn)\n",
    "conn.close()"
   ]
  },
  {
   "cell_type": "code",
   "execution_count": 3,
   "id": "fdde120c",
   "metadata": {},
   "outputs": [
    {
     "data": {
      "text/html": [
       "<div>\n",
       "<style scoped>\n",
       "    .dataframe tbody tr th:only-of-type {\n",
       "        vertical-align: middle;\n",
       "    }\n",
       "\n",
       "    .dataframe tbody tr th {\n",
       "        vertical-align: top;\n",
       "    }\n",
       "\n",
       "    .dataframe thead th {\n",
       "        text-align: right;\n",
       "    }\n",
       "</style>\n",
       "<table border=\"1\" class=\"dataframe\">\n",
       "  <thead>\n",
       "    <tr style=\"text-align: right;\">\n",
       "      <th></th>\n",
       "      <th>age</th>\n",
       "      <th>sex</th>\n",
       "      <th>chestPainType</th>\n",
       "      <th>restingBP</th>\n",
       "      <th>cholesterol</th>\n",
       "      <th>fastingBS</th>\n",
       "      <th>restingECG</th>\n",
       "      <th>maxHR</th>\n",
       "      <th>exerciseAngina</th>\n",
       "      <th>oldPeak</th>\n",
       "      <th>stSlope</th>\n",
       "      <th>heartDisease</th>\n",
       "      <th>ageGroup</th>\n",
       "    </tr>\n",
       "  </thead>\n",
       "  <tbody>\n",
       "    <tr>\n",
       "      <th>0</th>\n",
       "      <td>40</td>\n",
       "      <td>M</td>\n",
       "      <td>ATA</td>\n",
       "      <td>140</td>\n",
       "      <td>289</td>\n",
       "      <td>0</td>\n",
       "      <td>Normal</td>\n",
       "      <td>172</td>\n",
       "      <td>N</td>\n",
       "      <td>0.0</td>\n",
       "      <td>Up</td>\n",
       "      <td>0</td>\n",
       "      <td>40-49</td>\n",
       "    </tr>\n",
       "    <tr>\n",
       "      <th>1</th>\n",
       "      <td>49</td>\n",
       "      <td>F</td>\n",
       "      <td>NAP</td>\n",
       "      <td>160</td>\n",
       "      <td>180</td>\n",
       "      <td>0</td>\n",
       "      <td>Normal</td>\n",
       "      <td>156</td>\n",
       "      <td>N</td>\n",
       "      <td>1.0</td>\n",
       "      <td>Flat</td>\n",
       "      <td>1</td>\n",
       "      <td>40-49</td>\n",
       "    </tr>\n",
       "    <tr>\n",
       "      <th>2</th>\n",
       "      <td>37</td>\n",
       "      <td>M</td>\n",
       "      <td>ATA</td>\n",
       "      <td>130</td>\n",
       "      <td>283</td>\n",
       "      <td>0</td>\n",
       "      <td>ST</td>\n",
       "      <td>98</td>\n",
       "      <td>N</td>\n",
       "      <td>0.0</td>\n",
       "      <td>Up</td>\n",
       "      <td>0</td>\n",
       "      <td>30-39</td>\n",
       "    </tr>\n",
       "    <tr>\n",
       "      <th>3</th>\n",
       "      <td>48</td>\n",
       "      <td>F</td>\n",
       "      <td>ASY</td>\n",
       "      <td>138</td>\n",
       "      <td>214</td>\n",
       "      <td>0</td>\n",
       "      <td>Normal</td>\n",
       "      <td>108</td>\n",
       "      <td>Y</td>\n",
       "      <td>1.5</td>\n",
       "      <td>Flat</td>\n",
       "      <td>1</td>\n",
       "      <td>40-49</td>\n",
       "    </tr>\n",
       "    <tr>\n",
       "      <th>4</th>\n",
       "      <td>54</td>\n",
       "      <td>M</td>\n",
       "      <td>NAP</td>\n",
       "      <td>150</td>\n",
       "      <td>195</td>\n",
       "      <td>0</td>\n",
       "      <td>Normal</td>\n",
       "      <td>122</td>\n",
       "      <td>N</td>\n",
       "      <td>0.0</td>\n",
       "      <td>Up</td>\n",
       "      <td>0</td>\n",
       "      <td>50-59</td>\n",
       "    </tr>\n",
       "  </tbody>\n",
       "</table>\n",
       "</div>"
      ],
      "text/plain": [
       "   age sex chestPainType  restingBP  cholesterol  fastingBS restingECG  maxHR  \\\n",
       "0   40   M           ATA        140          289          0     Normal    172   \n",
       "1   49   F           NAP        160          180          0     Normal    156   \n",
       "2   37   M           ATA        130          283          0         ST     98   \n",
       "3   48   F           ASY        138          214          0     Normal    108   \n",
       "4   54   M           NAP        150          195          0     Normal    122   \n",
       "\n",
       "  exerciseAngina  oldPeak stSlope  heartDisease ageGroup  \n",
       "0              N      0.0      Up             0    40-49  \n",
       "1              N      1.0    Flat             1    40-49  \n",
       "2              N      0.0      Up             0    30-39  \n",
       "3              Y      1.5    Flat             1    40-49  \n",
       "4              N      0.0      Up             0    50-59  "
      ]
     },
     "execution_count": 3,
     "metadata": {},
     "output_type": "execute_result"
    }
   ],
   "source": [
    "heart_data.head()"
   ]
  },
  {
   "cell_type": "code",
   "execution_count": 4,
   "id": "8f3d3892",
   "metadata": {},
   "outputs": [],
   "source": [
    "def key_function(key):\n",
    "    if key == 0:\n",
    "        return \"Yes\"\n",
    "    else:\n",
    "        return \"No\""
   ]
  },
  {
   "cell_type": "code",
   "execution_count": 5,
   "id": "00194e0e",
   "metadata": {},
   "outputs": [
    {
     "data": {
      "text/html": [
       "<div>\n",
       "<style scoped>\n",
       "    .dataframe tbody tr th:only-of-type {\n",
       "        vertical-align: middle;\n",
       "    }\n",
       "\n",
       "    .dataframe tbody tr th {\n",
       "        vertical-align: top;\n",
       "    }\n",
       "\n",
       "    .dataframe thead tr th {\n",
       "        text-align: left;\n",
       "    }\n",
       "\n",
       "    .dataframe thead tr:last-of-type th {\n",
       "        text-align: right;\n",
       "    }\n",
       "</style>\n",
       "<table border=\"1\" class=\"dataframe\">\n",
       "  <thead>\n",
       "    <tr>\n",
       "      <th></th>\n",
       "      <th colspan=\"2\" halign=\"left\">cholesterol</th>\n",
       "    </tr>\n",
       "    <tr>\n",
       "      <th>heartDisease</th>\n",
       "      <th>0</th>\n",
       "      <th>1</th>\n",
       "    </tr>\n",
       "    <tr>\n",
       "      <th>ageGroup</th>\n",
       "      <th></th>\n",
       "      <th></th>\n",
       "    </tr>\n",
       "  </thead>\n",
       "  <tbody>\n",
       "    <tr>\n",
       "      <th>20-29</th>\n",
       "      <td>210.50</td>\n",
       "      <td>0.00</td>\n",
       "    </tr>\n",
       "    <tr>\n",
       "      <th>30-39</th>\n",
       "      <td>224.40</td>\n",
       "      <td>162.15</td>\n",
       "    </tr>\n",
       "    <tr>\n",
       "      <th>40-49</th>\n",
       "      <td>231.94</td>\n",
       "      <td>199.33</td>\n",
       "    </tr>\n",
       "    <tr>\n",
       "      <th>50-59</th>\n",
       "      <td>230.01</td>\n",
       "      <td>176.67</td>\n",
       "    </tr>\n",
       "    <tr>\n",
       "      <th>60-69</th>\n",
       "      <td>217.54</td>\n",
       "      <td>164.31</td>\n",
       "    </tr>\n",
       "    <tr>\n",
       "      <th>70-79</th>\n",
       "      <td>193.00</td>\n",
       "      <td>181.09</td>\n",
       "    </tr>\n",
       "  </tbody>\n",
       "</table>\n",
       "</div>"
      ],
      "text/plain": [
       "             cholesterol        \n",
       "heartDisease           0       1\n",
       "ageGroup                        \n",
       "20-29             210.50    0.00\n",
       "30-39             224.40  162.15\n",
       "40-49             231.94  199.33\n",
       "50-59             230.01  176.67\n",
       "60-69             217.54  164.31\n",
       "70-79             193.00  181.09"
      ]
     },
     "execution_count": 5,
     "metadata": {},
     "output_type": "execute_result"
    }
   ],
   "source": [
    "table = pd.pivot_table(heart_data, values=['cholesterol'], index=['ageGroup'], columns=['heartDisease'], aggfunc=np.mean, fill_value=0).round(2)\n",
    "table"
   ]
  },
  {
   "cell_type": "code",
   "execution_count": 6,
   "id": "2affe5a4",
   "metadata": {},
   "outputs": [
    {
     "data": {
      "text/plain": [
       "{'20-29': {('cholesterol', 0): 210.5, ('cholesterol', 1): 0.0},\n",
       " '30-39': {('cholesterol', 0): 224.4, ('cholesterol', 1): 162.15},\n",
       " '40-49': {('cholesterol', 0): 231.94, ('cholesterol', 1): 199.33},\n",
       " '50-59': {('cholesterol', 0): 230.01, ('cholesterol', 1): 176.67},\n",
       " '60-69': {('cholesterol', 0): 217.54, ('cholesterol', 1): 164.31},\n",
       " '70-79': {('cholesterol', 0): 193.0, ('cholesterol', 1): 181.09}}"
      ]
     },
     "execution_count": 6,
     "metadata": {},
     "output_type": "execute_result"
    }
   ],
   "source": [
    "df_dict = table.to_dict('index')\n",
    "df_dict"
   ]
  },
  {
   "cell_type": "code",
   "execution_count": 7,
   "id": "e3a4e48d",
   "metadata": {},
   "outputs": [
    {
     "data": {
      "text/plain": [
       "[{'ageGroup': '20-29', 'cholesterol': 210.5, 'heartDisease': 'Yes'},\n",
       " {'ageGroup': '20-29', 'cholesterol': 0.0, 'heartDisease': 'No'},\n",
       " {'ageGroup': '30-39', 'cholesterol': 224.4, 'heartDisease': 'Yes'},\n",
       " {'ageGroup': '30-39', 'cholesterol': 162.15, 'heartDisease': 'No'},\n",
       " {'ageGroup': '40-49', 'cholesterol': 231.94, 'heartDisease': 'Yes'},\n",
       " {'ageGroup': '40-49', 'cholesterol': 199.33, 'heartDisease': 'No'},\n",
       " {'ageGroup': '50-59', 'cholesterol': 230.01, 'heartDisease': 'Yes'},\n",
       " {'ageGroup': '50-59', 'cholesterol': 176.67, 'heartDisease': 'No'},\n",
       " {'ageGroup': '60-69', 'cholesterol': 217.54, 'heartDisease': 'Yes'},\n",
       " {'ageGroup': '60-69', 'cholesterol': 164.31, 'heartDisease': 'No'},\n",
       " {'ageGroup': '70-79', 'cholesterol': 193.0, 'heartDisease': 'Yes'},\n",
       " {'ageGroup': '70-79', 'cholesterol': 181.09, 'heartDisease': 'No'}]"
      ]
     },
     "execution_count": 7,
     "metadata": {},
     "output_type": "execute_result"
    }
   ],
   "source": [
    "new_dict = []\n",
    "for key, value in df_dict.items():\n",
    "    for key2, value2 in value.items():\n",
    "        new_dict.append({\"ageGroup\": key, key2[0]: value2, \"heartDisease\": key_function(key2[1])})\n",
    "new_dict"
   ]
  },
  {
   "cell_type": "code",
   "execution_count": 8,
   "id": "28713c73",
   "metadata": {},
   "outputs": [
    {
     "data": {
      "text/html": [
       "<div>\n",
       "<style scoped>\n",
       "    .dataframe tbody tr th:only-of-type {\n",
       "        vertical-align: middle;\n",
       "    }\n",
       "\n",
       "    .dataframe tbody tr th {\n",
       "        vertical-align: top;\n",
       "    }\n",
       "\n",
       "    .dataframe thead tr th {\n",
       "        text-align: left;\n",
       "    }\n",
       "\n",
       "    .dataframe thead tr:last-of-type th {\n",
       "        text-align: right;\n",
       "    }\n",
       "</style>\n",
       "<table border=\"1\" class=\"dataframe\">\n",
       "  <thead>\n",
       "    <tr>\n",
       "      <th></th>\n",
       "      <th colspan=\"2\" halign=\"left\">cholesterol</th>\n",
       "    </tr>\n",
       "    <tr>\n",
       "      <th>heartDisease</th>\n",
       "      <th>0</th>\n",
       "      <th>1</th>\n",
       "    </tr>\n",
       "    <tr>\n",
       "      <th>ageGroup</th>\n",
       "      <th></th>\n",
       "      <th></th>\n",
       "    </tr>\n",
       "  </thead>\n",
       "  <tbody>\n",
       "    <tr>\n",
       "      <th>20-29</th>\n",
       "      <td>210.50</td>\n",
       "      <td>0.00</td>\n",
       "    </tr>\n",
       "    <tr>\n",
       "      <th>30-39</th>\n",
       "      <td>233.82</td>\n",
       "      <td>172.61</td>\n",
       "    </tr>\n",
       "    <tr>\n",
       "      <th>40-49</th>\n",
       "      <td>232.81</td>\n",
       "      <td>194.47</td>\n",
       "    </tr>\n",
       "    <tr>\n",
       "      <th>50-59</th>\n",
       "      <td>213.68</td>\n",
       "      <td>167.43</td>\n",
       "    </tr>\n",
       "    <tr>\n",
       "      <th>60-69</th>\n",
       "      <td>178.83</td>\n",
       "      <td>159.07</td>\n",
       "    </tr>\n",
       "    <tr>\n",
       "      <th>70-79</th>\n",
       "      <td>138.75</td>\n",
       "      <td>189.71</td>\n",
       "    </tr>\n",
       "  </tbody>\n",
       "</table>\n",
       "</div>"
      ],
      "text/plain": [
       "             cholesterol        \n",
       "heartDisease           0       1\n",
       "ageGroup                        \n",
       "20-29             210.50    0.00\n",
       "30-39             233.82  172.61\n",
       "40-49             232.81  194.47\n",
       "50-59             213.68  167.43\n",
       "60-69             178.83  159.07\n",
       "70-79             138.75  189.71"
      ]
     },
     "execution_count": 8,
     "metadata": {},
     "output_type": "execute_result"
    }
   ],
   "source": [
    "male_table = heart_data[heart_data.sex == 'M'].pivot_table(values=['cholesterol'], index=['ageGroup'], columns=['heartDisease'], aggfunc=np.mean, fill_value=0).round(2)\n",
    "male_table"
   ]
  },
  {
   "cell_type": "code",
   "execution_count": 9,
   "id": "30d530d1",
   "metadata": {},
   "outputs": [
    {
     "data": {
      "text/plain": [
       "{'20-29': {('cholesterol', 0): 210.5, ('cholesterol', 1): 0.0},\n",
       " '30-39': {('cholesterol', 0): 233.82, ('cholesterol', 1): 172.61},\n",
       " '40-49': {('cholesterol', 0): 232.81, ('cholesterol', 1): 194.47},\n",
       " '50-59': {('cholesterol', 0): 213.68, ('cholesterol', 1): 167.43},\n",
       " '60-69': {('cholesterol', 0): 178.83, ('cholesterol', 1): 159.07},\n",
       " '70-79': {('cholesterol', 0): 138.75, ('cholesterol', 1): 189.71}}"
      ]
     },
     "execution_count": 9,
     "metadata": {},
     "output_type": "execute_result"
    }
   ],
   "source": [
    "male_df_dict = male_table.to_dict('index')\n",
    "male_df_dict"
   ]
  },
  {
   "cell_type": "code",
   "execution_count": 10,
   "id": "3a1c5e87",
   "metadata": {},
   "outputs": [
    {
     "data": {
      "text/plain": [
       "[{'ageGroup': '20-29', 'cholesterol': 210.5, 'heartDisease': 0},\n",
       " {'ageGroup': '20-29', 'cholesterol': 0.0, 'heartDisease': 1},\n",
       " {'ageGroup': '30-39', 'cholesterol': 233.82, 'heartDisease': 0},\n",
       " {'ageGroup': '30-39', 'cholesterol': 172.61, 'heartDisease': 1},\n",
       " {'ageGroup': '40-49', 'cholesterol': 232.81, 'heartDisease': 0},\n",
       " {'ageGroup': '40-49', 'cholesterol': 194.47, 'heartDisease': 1},\n",
       " {'ageGroup': '50-59', 'cholesterol': 213.68, 'heartDisease': 0},\n",
       " {'ageGroup': '50-59', 'cholesterol': 167.43, 'heartDisease': 1},\n",
       " {'ageGroup': '60-69', 'cholesterol': 178.83, 'heartDisease': 0},\n",
       " {'ageGroup': '60-69', 'cholesterol': 159.07, 'heartDisease': 1},\n",
       " {'ageGroup': '70-79', 'cholesterol': 138.75, 'heartDisease': 0},\n",
       " {'ageGroup': '70-79', 'cholesterol': 189.71, 'heartDisease': 1}]"
      ]
     },
     "execution_count": 10,
     "metadata": {},
     "output_type": "execute_result"
    }
   ],
   "source": [
    "new_dict = []\n",
    "for key, value in male_df_dict.items():\n",
    "    for key2, value2 in value.items():\n",
    "        new_dict.append({\"ageGroup\": key, key2[0]: value2, \"heartDisease\": key2[1]})\n",
    "new_dict"
   ]
  },
  {
   "cell_type": "code",
   "execution_count": 11,
   "id": "ca183ca8",
   "metadata": {},
   "outputs": [
    {
     "data": {
      "text/html": [
       "<div>\n",
       "<style scoped>\n",
       "    .dataframe tbody tr th:only-of-type {\n",
       "        vertical-align: middle;\n",
       "    }\n",
       "\n",
       "    .dataframe tbody tr th {\n",
       "        vertical-align: top;\n",
       "    }\n",
       "\n",
       "    .dataframe thead tr th {\n",
       "        text-align: left;\n",
       "    }\n",
       "\n",
       "    .dataframe thead tr:last-of-type th {\n",
       "        text-align: right;\n",
       "    }\n",
       "</style>\n",
       "<table border=\"1\" class=\"dataframe\">\n",
       "  <thead>\n",
       "    <tr>\n",
       "      <th></th>\n",
       "      <th colspan=\"2\" halign=\"left\">cholesterol</th>\n",
       "    </tr>\n",
       "    <tr>\n",
       "      <th>heartDisease</th>\n",
       "      <th>0</th>\n",
       "      <th>1</th>\n",
       "    </tr>\n",
       "    <tr>\n",
       "      <th>ageGroup</th>\n",
       "      <th></th>\n",
       "      <th></th>\n",
       "    </tr>\n",
       "  </thead>\n",
       "  <tbody>\n",
       "    <tr>\n",
       "      <th>30-39</th>\n",
       "      <td>204.38</td>\n",
       "      <td>82.00</td>\n",
       "    </tr>\n",
       "    <tr>\n",
       "      <th>40-49</th>\n",
       "      <td>230.43</td>\n",
       "      <td>263.33</td>\n",
       "    </tr>\n",
       "    <tr>\n",
       "      <th>50-59</th>\n",
       "      <td>264.54</td>\n",
       "      <td>265.30</td>\n",
       "    </tr>\n",
       "    <tr>\n",
       "      <th>60-69</th>\n",
       "      <td>274.00</td>\n",
       "      <td>201.75</td>\n",
       "    </tr>\n",
       "    <tr>\n",
       "      <th>70-79</th>\n",
       "      <td>236.40</td>\n",
       "      <td>0.00</td>\n",
       "    </tr>\n",
       "  </tbody>\n",
       "</table>\n",
       "</div>"
      ],
      "text/plain": [
       "             cholesterol        \n",
       "heartDisease           0       1\n",
       "ageGroup                        \n",
       "30-39             204.38   82.00\n",
       "40-49             230.43  263.33\n",
       "50-59             264.54  265.30\n",
       "60-69             274.00  201.75\n",
       "70-79             236.40    0.00"
      ]
     },
     "execution_count": 11,
     "metadata": {},
     "output_type": "execute_result"
    }
   ],
   "source": [
    "female_table = heart_data[heart_data.sex == 'F'].pivot_table(values=['cholesterol'], index=['ageGroup'], columns=['heartDisease'], aggfunc=np.mean, fill_value=0).round(2)\n",
    "female_table"
   ]
  }
 ],
 "metadata": {
  "kernelspec": {
   "display_name": "PythonData",
   "language": "python",
   "name": "pythondata"
  },
  "language_info": {
   "codemirror_mode": {
    "name": "ipython",
    "version": 3
   },
   "file_extension": ".py",
   "mimetype": "text/x-python",
   "name": "python",
   "nbconvert_exporter": "python",
   "pygments_lexer": "ipython3",
   "version": "3.7.7"
  }
 },
 "nbformat": 4,
 "nbformat_minor": 5
}
